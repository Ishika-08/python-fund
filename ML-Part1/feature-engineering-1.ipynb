{
 "cells": [
  {
   "cell_type": "markdown",
   "id": "7c25233e",
   "metadata": {},
   "source": [
    "# Q1. What is the Filter method in feature selection, and how does it work? \n"
   ]
  },
  {
   "cell_type": "code",
   "execution_count": null,
   "id": "0b56e42c",
   "metadata": {},
   "outputs": [],
   "source": []
  },
  {
   "cell_type": "markdown",
   "id": "da4742c7",
   "metadata": {},
   "source": [
    "# Q2. How does the Wrapper method differ from the Filter method in feature selection? \n"
   ]
  },
  {
   "cell_type": "code",
   "execution_count": null,
   "id": "0887f7fa",
   "metadata": {},
   "outputs": [],
   "source": []
  },
  {
   "cell_type": "markdown",
   "id": "a4f08229",
   "metadata": {},
   "source": [
    "#  Q3. What are some common techniques used in Embedded feature selection methods?\n"
   ]
  },
  {
   "cell_type": "code",
   "execution_count": null,
   "id": "4236a3c1",
   "metadata": {},
   "outputs": [],
   "source": []
  },
  {
   "cell_type": "markdown",
   "id": "cd47fe63",
   "metadata": {},
   "source": [
    "#  Q4. What are some drawbacks of using the Filter method for feature selection? \n"
   ]
  },
  {
   "cell_type": "code",
   "execution_count": null,
   "id": "60adea18",
   "metadata": {},
   "outputs": [],
   "source": []
  },
  {
   "cell_type": "markdown",
   "id": "512b97bb",
   "metadata": {},
   "source": [
    "#  Q5. In which situations would you prefer using the Filter method over the Wrapper method for feature  selection? \n"
   ]
  },
  {
   "cell_type": "code",
   "execution_count": null,
   "id": "af36f840",
   "metadata": {},
   "outputs": [],
   "source": []
  },
  {
   "cell_type": "markdown",
   "id": "5bdb4c6b",
   "metadata": {},
   "source": [
    "#  Q6. In a telecom company, you are working on a project to develop a predictive model for customer churn.  You are unsure of which features to include in the model because the dataset contains several different  ones. Describe how you would choose the most pertinent attributes for the model using the Filter Method. \n"
   ]
  },
  {
   "cell_type": "code",
   "execution_count": null,
   "id": "f1f2e1d0",
   "metadata": {},
   "outputs": [],
   "source": []
  },
  {
   "cell_type": "markdown",
   "id": "5ed201ee",
   "metadata": {},
   "source": [
    "# Q7. You are working on a project to predict the outcome of a soccer match. You have a large dataset with  many features, including player statistics and team rankings. Explain how you would use the Embedded  method to select the most relevant features for the model. "
   ]
  },
  {
   "cell_type": "code",
   "execution_count": null,
   "id": "596f8c23",
   "metadata": {},
   "outputs": [],
   "source": []
  },
  {
   "cell_type": "markdown",
   "id": "6afcbade",
   "metadata": {},
   "source": [
    "# Q8. You are working on a project to predict the price of a house based on its features, such as size, location,  and age. You have a limited number of features, and you want to ensure that you select the most important  ones for the model. Explain how you would use the Wrapper method to select the best set of features for the  predictor. \n"
   ]
  }
 ],
 "metadata": {
  "kernelspec": {
   "display_name": "Python 3 (ipykernel)",
   "language": "python",
   "name": "python3"
  },
  "language_info": {
   "codemirror_mode": {
    "name": "ipython",
    "version": 3
   },
   "file_extension": ".py",
   "mimetype": "text/x-python",
   "name": "python",
   "nbconvert_exporter": "python",
   "pygments_lexer": "ipython3",
   "version": "3.11.4"
  }
 },
 "nbformat": 4,
 "nbformat_minor": 5
}

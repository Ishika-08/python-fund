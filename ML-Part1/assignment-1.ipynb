{
 "cells": [
  {
   "cell_type": "markdown",
   "id": "94126764",
   "metadata": {},
   "source": [
    "# Explain the following with an example: AI, ML, DL\n",
    "\n",
    "1. ***Artificail intelligence:\n",
    "it is an application which can perform its own task without any human intervention. example: Chatbots, self driving cars\n",
    "\n",
    "2. **Machine Learning:\n",
    "ML is subset of AI. It provides stats tools to analyze, visualize, create predective models, perform forecasting. example: Recommendation System. it is furhter classified as:\n",
    "    \n",
    "    supervised, unsupervised, semisupervised and reinforcement learning\n",
    "\n",
    "3. **Deep Learning:\n",
    "It is subset of ML which is used to memic the human brain. used in object detection, image recognition, etc.."
   ]
  },
  {
   "cell_type": "code",
   "execution_count": null,
   "id": "d8246b06",
   "metadata": {},
   "outputs": [],
   "source": []
  },
  {
   "cell_type": "markdown",
   "id": "62b436ae",
   "metadata": {},
   "source": [
    "# What is supervised learning? List some examples of supervised learning\n",
    "\n",
    "Supervised learning is a type of machine learning where the algorithm learns from labeled training data to make predictions or decisions. In supervised learning, each example in the dataset is a pair consisting of an input object (typically a vector) and a desired output value.\n",
    "\n",
    "We use supervised learning ot solve two types of problems namely: classification and regression\n",
    "here you know the outpur feature of the given dataset\n",
    "\n",
    "Classification: A common example of supervised learning is email spam detection. The algorithm learns to classify emails as \"spam\" or \"not spam\" based on labeled examples of both types of emails.\n",
    "\n",
    "Regression: Predicting house prices based on features such as area, number of bedrooms, location, etc. is an example of supervised regression learning. The algorithm learns to predict a continuous value based on the input features.\n"
   ]
  },
  {
   "cell_type": "code",
   "execution_count": null,
   "id": "50f0c7b1",
   "metadata": {},
   "outputs": [],
   "source": []
  },
  {
   "cell_type": "markdown",
   "id": "e60f88d3",
   "metadata": {},
   "source": [
    "# what is unsupervised learning? List some examples of unsupervised learning\n",
    "\n",
    " In unsupervised learning, the task of the algorithm is to find hidden structures or patterns in the input data. Unlike supervised learning, there is no corresponding output label for the input data, and the algorithm explores the data to identify patterns and relationships on its own. Here we work on unlabeled data. Example:\n",
    " \n",
    " Clustering:  Unsupervised learning algorithms can group similar data points together in a process called clustering. An example is customer segmentation in marketing, where customers with similar purchasing behavior are grouped together for targeted marketing strategies."
   ]
  },
  {
   "cell_type": "code",
   "execution_count": null,
   "id": "aacc71d3",
   "metadata": {},
   "outputs": [],
   "source": []
  },
  {
   "cell_type": "markdown",
   "id": "1fd3a7e9",
   "metadata": {},
   "source": [
    "# What is difference between AI, ML, DL and DS\n",
    "\n",
    "**AI is an application which can perform its own task without any human intervention. example: Chatbots, self driving cars\n",
    "\n",
    "**ML is subset of AI. It provides stats tools to analyze, visualize, create predective models, perform forecasting. example: Recommendation System. \n",
    "\n",
    "**DL is subset of ML which is used to memic the human brain. used in object detection, image recognition, etc..\n",
    "\n",
    "**DS is an multidisciplinary field that includes AL, ML and DL."
   ]
  },
  {
   "cell_type": "code",
   "execution_count": null,
   "id": "8a67d0ae",
   "metadata": {},
   "outputs": [],
   "source": []
  },
  {
   "cell_type": "markdown",
   "id": "9c057db7",
   "metadata": {},
   "source": [
    "# What are the main differences between supervised, unsupervised and semi supervised learning?\n",
    "\n",
    "1. **Supervised Learning**:\n",
    "   - **Input Data**: Labeled Data\n",
    "   - **Goal**: Predict output based on input data\n",
    "   - **Examples**: Image classification, Regression\n",
    "   - **Dependency on labeled data**: Highly dependent; requires labeled training data\n",
    "   - **Evaluation**: Accuracy, precision, recall, F1 score\n",
    "\n",
    "2. **Unsupervised Learning**:\n",
    "   - **Input Data**: Unlabeled Data\n",
    "   - **Goal**: Find hidden patterns or intrinsic structures in data\n",
    "   - **Examples**: Clustering, Anomaly detection\n",
    "   - **Dependency on labeled data**: Not dependent on labeled data\n",
    "   - **Evaluation**: Silhouette score, Davies–Bouldin index\n",
    "\n",
    "3. **Semi-Supervised Learning**:\n",
    "   - **Input Data**: Combination of Labeled and Unlabeled Data\n",
    "   - **Goal**: Use labeled data to guide the learning from unlabeled data\n",
    "   - **Examples**: Speech recognition, Video analysis\n",
    "   - **Dependency on labeled data**: Partial dependency; uses both labeled and unlabeled data\n",
    "   - **Evaluation**: Performance on the labeled data, use of unlabeled data."
   ]
  },
  {
   "cell_type": "code",
   "execution_count": null,
   "id": "579f5e95",
   "metadata": {},
   "outputs": [],
   "source": []
  },
  {
   "cell_type": "markdown",
   "id": "144a64ba",
   "metadata": {},
   "source": [
    "# What is train,test and validation split ? Expalin the importance of each term\n",
    "\n",
    "Before making any project the dataset is divided into three:\n",
    "\n",
    "1. **Training Dataset**: It is used for model training\n",
    "\n",
    "2. **Validation Dataset**: used fro hyper tuning of model .i.e. to ckeck if by changing some parameters of model we can increase its accuracy. there are various methods for carrying this task for example cross validation\n",
    "\n",
    "3. **Test Dataset**: model will be tested using test dataset"
   ]
  },
  {
   "cell_type": "code",
   "execution_count": null,
   "id": "6c20c67f",
   "metadata": {},
   "outputs": [],
   "source": []
  },
  {
   "cell_type": "markdown",
   "id": "c8d3fefe",
   "metadata": {},
   "source": [
    "# How can unsupervised learning be used in anomaly detection?\n",
    "\n",
    "Unsupervised learning can be effectively utilized in **anomaly detection, where the objective is to identify data points that deviate significantly from the norm or expected behavior**. Anomaly detection is crucial in various fields such as fraud detection, intrusion detection in cybersecurity, and fault detection in industrial systems. Unsupervised learning algorithms can be applied in the following ways for anomaly detection:\n",
    "\n",
    "**Clustering Analysis**: Unsupervised learning algorithms can group similar data points together based on inherent patterns in the data. Anomalies can be detected as data points that do not belong to any specific cluster or are significantly distant from the clusters.\n",
    "\n",
    "**Density Estimation**: Algorithms like Kernel Density Estimation (KDE) can estimate the probability density function of the data. Points with low probability density are considered anomalies.\n",
    "\n",
    "**Principal Component Analysis (PCA)**: PCA is a technique used for dimensionality reduction. Anomalies can be detected as data points that are outliers in the reduced-dimensional space.\n",
    "\n",
    "**Isolation Forests**: Isolation Forest is an unsupervised learning algorithm that isolates anomalies by randomly selecting a feature and then randomly selecting a split value between the maximum and minimum values of the selected feature.\n",
    "\n",
    "**One-Class Support Vector Machines (SVM:** One-Class SVM is trained on normal data and learns to identify deviations from the normal pattern. Data points falling outside the learned boundary are classified as anomalies."
   ]
  },
  {
   "cell_type": "code",
   "execution_count": null,
   "id": "2ff1a638",
   "metadata": {},
   "outputs": [],
   "source": []
  },
  {
   "cell_type": "markdown",
   "id": "e897b5ce",
   "metadata": {},
   "source": [
    "# List down some commonly used supervised learning algorithms and unsupervised learning algorithms\n",
    "\n",
    "\n",
    "**Supervised Learning Algorithms:**\n",
    "\n",
    "1. **Linear Regression**: A simple algorithm used for predicting a continuous output variable based on one or more input features. It assumes a linear relationship between the input and output variables.\n",
    "\n",
    "2. **Logistic Regression**: This algorithm is used for binary classification tasks, where the goal is to predict the probability of an input belonging to a particular class. It works well for problems with linear decision boundaries.\n",
    "\n",
    "3. **Decision Trees**: Decision trees are a popular algorithm for both classification and regression tasks. They make decisions by mapping input features to the target variable with a tree-like structure, making them easy to interpret.\n",
    "\n",
    "4. **Random Forest**: A collection of decision trees that work together to make predictions. It is used for both classification and regression tasks and is known for its high accuracy and robustness.\n",
    "\n",
    "5. **Support Vector Machines (SVM)**: SVM is a powerful algorithm used for both classification and regression tasks. It separates data points using a hyperplane to maximize the margin between different classes.\n",
    "\n",
    "**Unsupervised Learning Algorithms:**\n",
    "\n",
    "1. **K-means Clustering**: A popular algorithm used for partitioning a dataset into K distinct, non-overlapping clusters. It assigns data points to clusters based on their similarity to the centroid of each cluster.\n",
    "\n",
    "2. **Hierarchical Clustering**: This algorithm creates a hierarchy of clusters where each data point is assigned to its own cluster. It then merges similar clusters based on a specified criterion to form a larger cluster.\n",
    "\n",
    "3. **Principal Component Analysis (PCA)**: PCA is a dimensionality reduction technique that identifies patterns in data and re-expresses the data in a way that highlights its similarities and differences. It is commonly used for feature extraction and data visualization.\n",
    "\n",
    "4. **Apriori Algorithm**: This algorithm is used for association rule learning in transactional databases. It helps in identifying frequent patterns, associations, and correlations among a set of items in the dataset.\n",
    "\n",
    "5. **t-distributed Stochastic Neighbor Embedding (t-SNE)**: t-SNE is a technique used for data visualization that reduces high-dimensional data to a lower dimension while preserving the local structure of the data. It is commonly used for visualizing clusters in complex datasets.\n",
    "\n",
    "Understanding these basic algorithms can provide a solid foundation for delving deeper into the world of machine learning and data science."
   ]
  },
  {
   "cell_type": "code",
   "execution_count": null,
   "id": "9d5d9a09",
   "metadata": {},
   "outputs": [],
   "source": []
  }
 ],
 "metadata": {
  "kernelspec": {
   "display_name": "Python 3 (ipykernel)",
   "language": "python",
   "name": "python3"
  },
  "language_info": {
   "codemirror_mode": {
    "name": "ipython",
    "version": 3
   },
   "file_extension": ".py",
   "mimetype": "text/x-python",
   "name": "python",
   "nbconvert_exporter": "python",
   "pygments_lexer": "ipython3",
   "version": "3.11.4"
  }
 },
 "nbformat": 4,
 "nbformat_minor": 5
}

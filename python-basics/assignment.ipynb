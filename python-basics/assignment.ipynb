{
 "cells": [
  {
   "cell_type": "markdown",
   "id": "653ee36e",
   "metadata": {},
   "source": [
    "# Q1. Create one variable containing following type of data: (i) string (ii) list(iii) float (iv) tuple"
   ]
  },
  {
   "cell_type": "code",
   "execution_count": 1,
   "id": "06f77a02",
   "metadata": {},
   "outputs": [],
   "source": [
    "# String\n",
    "my_string = \"Hello, this is a string.\"\n",
    "\n",
    "# List\n",
    "my_list = [1, 2, 3, 4, 5]\n",
    "\n",
    "# Float\n",
    "my_float = 3.14\n",
    "\n",
    "# Tuple\n",
    "my_tuple = (6, 7, 8, 9, 10)"
   ]
  },
  {
   "cell_type": "code",
   "execution_count": null,
   "id": "c37f76ea",
   "metadata": {},
   "outputs": [],
   "source": []
  },
  {
   "cell_type": "markdown",
   "id": "cb5526c6",
   "metadata": {},
   "source": [
    "# Q2. Given are some following variables containing data:\n",
    "# (i) var1 = ‘ ‘\n",
    "# (ii) var2 = ‘[ DS , ML , Python]’\n",
    "# (iii) var3 = [ ‘DS’ , ’ML’ , ‘Python’ ]\n",
    "# (iv) var4 = 1.\n",
    "# What will be the data type of the above given variable."
   ]
  },
  {
   "cell_type": "code",
   "execution_count": 2,
   "id": "a56f70db",
   "metadata": {},
   "outputs": [
    {
     "name": "stdout",
     "output_type": "stream",
     "text": [
      "Data type of var1: <class 'str'>\n",
      "Data type of var2: <class 'str'>\n",
      "Data type of var3: <class 'list'>\n",
      "Data type of var4: <class 'float'>\n"
     ]
    }
   ],
   "source": [
    "# Given variables\n",
    "var1 = ' '\n",
    "var2 = '[ DS , ML , Python]'\n",
    "var3 = ['DS', 'ML', 'Python']\n",
    "var4 = 1.0\n",
    "\n",
    "# Printing data types of the variables\n",
    "print(f\"Data type of var1: {type(var1)}\")\n",
    "print(f\"Data type of var2: {type(var2)}\")\n",
    "print(f\"Data type of var3: {type(var3)}\")\n",
    "print(f\"Data type of var4: {type(var4)}\")"
   ]
  },
  {
   "cell_type": "code",
   "execution_count": null,
   "id": "08444611",
   "metadata": {},
   "outputs": [],
   "source": []
  },
  {
   "cell_type": "markdown",
   "id": "e73bad6b",
   "metadata": {},
   "source": [
    "# Q3. Explain the use of the following operators using an example:\n",
    "(i) /\n",
    "(ii) %\n",
    "(iii) //\n",
    "(iv) **"
   ]
  },
  {
   "cell_type": "code",
   "execution_count": 3,
   "id": "bd0e0250",
   "metadata": {},
   "outputs": [
    {
     "name": "stdout",
     "output_type": "stream",
     "text": [
      "Division result: 3.3333333333333335\n",
      "Modulo result: 1\n",
      "Floor Division result: 3\n",
      "Exponentiation result: 1000\n"
     ]
    }
   ],
   "source": [
    "# Using various operators\n",
    "a = 10\n",
    "b = 3\n",
    "\n",
    "# Division operator (/)\n",
    "result_division = a / b\n",
    "print(f\"Division result: {result_division}\")  \n",
    "\n",
    "# Modulo operator (%)\n",
    "result_modulo = a % b\n",
    "print(f\"Modulo result: {result_modulo}\") \n",
    "\n",
    "# Floor division operator (//)\n",
    "result_floor_division = a // b\n",
    "print(f\"Floor Division result: {result_floor_division}\")  \n",
    "\n",
    "# Exponentiation operator (**)\n",
    "result_exponentiation = a ** b\n",
    "print(f\"Exponentiation result: {result_exponentiation}\") \n"
   ]
  },
  {
   "cell_type": "code",
   "execution_count": null,
   "id": "84de2087",
   "metadata": {},
   "outputs": [],
   "source": []
  },
  {
   "cell_type": "markdown",
   "id": "6fdbb10e",
   "metadata": {},
   "source": [
    "# Q4. Create a list of length 10 of your choice containing multiple types of data. Using for loop print the element and its data type."
   ]
  },
  {
   "cell_type": "code",
   "execution_count": 4,
   "id": "5b05430b",
   "metadata": {},
   "outputs": [
    {
     "name": "stdout",
     "output_type": "stream",
     "text": [
      "Element: 1, Data Type: <class 'int'>\n",
      "Element: 2.5, Data Type: <class 'float'>\n",
      "Element: Hello, Data Type: <class 'str'>\n",
      "Element: True, Data Type: <class 'bool'>\n",
      "Element: [1, 2, 3], Data Type: <class 'list'>\n",
      "Element: (4, 5, 6), Data Type: <class 'tuple'>\n",
      "Element: {'key': 'value'}, Data Type: <class 'dict'>\n",
      "Element: None, Data Type: <class 'NoneType'>\n",
      "Element: 9, Data Type: <class 'int'>\n",
      "Element: 10.5, Data Type: <class 'float'>\n"
     ]
    }
   ],
   "source": [
    "my_list = [1, 2.5, 'Hello', True, [1, 2, 3], (4, 5, 6), {'key': 'value'}, None, 9, 10.5]\n",
    "\n",
    "for element in my_list:\n",
    "    print(f\"Element: {element}, Data Type: {type(element)}\")\n"
   ]
  },
  {
   "cell_type": "code",
   "execution_count": null,
   "id": "bd9d2b24",
   "metadata": {},
   "outputs": [],
   "source": []
  },
  {
   "cell_type": "markdown",
   "id": "04fc6559",
   "metadata": {},
   "source": [
    "# Q5. Using a while loop, verify if the number A is purely divisible by number B and if so then how many times it can be divisible."
   ]
  },
  {
   "cell_type": "code",
   "execution_count": 8,
   "id": "98853266",
   "metadata": {},
   "outputs": [
    {
     "name": "stdout",
     "output_type": "stream",
     "text": [
      "8 is divisible by 2 : 2 times\n"
     ]
    }
   ],
   "source": [
    "temp = 8\n",
    "a = 8\n",
    "b = 2\n",
    "count = 0\n",
    "while a>b:\n",
    "    if(a % b == 0):\n",
    "        count += 1\n",
    "        a = a/b\n",
    "\n",
    "print(f\"{temp} is divisible by {b} : {count} times\")\n",
    "        "
   ]
  },
  {
   "cell_type": "code",
   "execution_count": null,
   "id": "8b2fd73d",
   "metadata": {},
   "outputs": [],
   "source": []
  },
  {
   "cell_type": "markdown",
   "id": "a15ac15e",
   "metadata": {},
   "source": [
    "# Q6. Create a list containing 25 int type data. Using for loop and if-else condition print if the element is divisible by 3 or not."
   ]
  },
  {
   "cell_type": "code",
   "execution_count": 9,
   "id": "371dbe7a",
   "metadata": {},
   "outputs": [
    {
     "name": "stdout",
     "output_type": "stream",
     "text": [
      "7 is not divisible by 3\n",
      "12 is divisible by 3\n",
      "18 is divisible by 3\n",
      "25 is not divisible by 3\n",
      "30 is divisible by 3\n",
      "37 is not divisible by 3\n",
      "42 is divisible by 3\n",
      "48 is divisible by 3\n",
      "55 is not divisible by 3\n",
      "60 is divisible by 3\n",
      "67 is not divisible by 3\n",
      "72 is divisible by 3\n",
      "78 is divisible by 3\n",
      "85 is not divisible by 3\n",
      "90 is divisible by 3\n",
      "97 is not divisible by 3\n",
      "102 is divisible by 3\n",
      "108 is divisible by 3\n",
      "115 is not divisible by 3\n",
      "120 is divisible by 3\n",
      "127 is not divisible by 3\n",
      "132 is divisible by 3\n",
      "138 is divisible by 3\n",
      "145 is not divisible by 3\n",
      "150 is divisible by 3\n"
     ]
    }
   ],
   "source": [
    "# Creating a list containing 25 integers\n",
    "my_list = [7, 12, 18, 25, 30, 37, 42, 48, 55, 60, 67, 72, 78, 85, 90, 97, 102, 108, 115, 120, 127, 132, 138, 145, 150]\n",
    "\n",
    "# Using for loop and if-else condition to check divisibility by 3\n",
    "for element in my_list:\n",
    "    if element % 3 == 0:\n",
    "        print(f\"{element} is divisible by 3\")\n",
    "    else:\n",
    "        print(f\"{element} is not divisible by 3\")\n"
   ]
  },
  {
   "cell_type": "code",
   "execution_count": null,
   "id": "f2f05607",
   "metadata": {},
   "outputs": [],
   "source": []
  },
  {
   "cell_type": "markdown",
   "id": "b61be14e",
   "metadata": {},
   "source": [
    "# Q7. What do you understand about mutable and immutable data types? Give examples for both showing this property.\n",
    "\n",
    "=> In Python, mutable data types are those that can be altered or changed after creation, while immutable data types are those that cannot be changed once they are created. Mutable data types allow in-place modifications, meaning their internal state or value can be modified without the need for reassignment. Immutable data types, on the other hand, do not support in-place modifications, so any attempt to change their value results in the creation of a new object.\n",
    "\n",
    "Examples of mutable data types include lists, dictionaries, and sets, while examples of immutable data types include integers, floats, strings, and tuples."
   ]
  },
  {
   "cell_type": "code",
   "execution_count": 10,
   "id": "9a1605b2",
   "metadata": {},
   "outputs": [
    {
     "name": "stdout",
     "output_type": "stream",
     "text": [
      "Original list: [1, 2, 3, 4]\n",
      "Modified list: [1, 10, 3, 4, 5]\n",
      "Original tuple: (1, 2, 3, 4)\n",
      "Error: 'tuple' object does not support item assignment\n"
     ]
    }
   ],
   "source": [
    "# Mutable data type example: list\n",
    "mutable_list = [1, 2, 3, 4]\n",
    "print(\"Original list:\", mutable_list)\n",
    "\n",
    "# Modifying the list\n",
    "mutable_list.append(5)\n",
    "mutable_list[1] = 10\n",
    "print(\"Modified list:\", mutable_list)\n",
    "\n",
    "# Immutable data type example: tuple\n",
    "immutable_tuple = (1, 2, 3, 4)\n",
    "print(\"Original tuple:\", immutable_tuple)\n",
    "\n",
    "# Attempting to modify the tuple (will result in an error)\n",
    "try:\n",
    "    immutable_tuple[1] = 10\n",
    "except TypeError as e:\n",
    "    print(f\"Error: {e}\")\n"
   ]
  },
  {
   "cell_type": "code",
   "execution_count": null,
   "id": "819c3a9c",
   "metadata": {},
   "outputs": [],
   "source": []
  }
 ],
 "metadata": {
  "kernelspec": {
   "display_name": "Python 3 (ipykernel)",
   "language": "python",
   "name": "python3"
  },
  "language_info": {
   "codemirror_mode": {
    "name": "ipython",
    "version": 3
   },
   "file_extension": ".py",
   "mimetype": "text/x-python",
   "name": "python",
   "nbconvert_exporter": "python",
   "pygments_lexer": "ipython3",
   "version": "3.11.4"
  }
 },
 "nbformat": 4,
 "nbformat_minor": 5
}

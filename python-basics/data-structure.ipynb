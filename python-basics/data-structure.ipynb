{
 "cells": [
  {
   "cell_type": "markdown",
   "id": "fe912eb2",
   "metadata": {},
   "source": [
    "# Q1. How do you comment code in Python? What are the different types of comments?\n",
    "\n",
    "=> Single-line comments: These comments start with a hash symbol (#) and continue until the end of the line. The interpreter ignores everything after the # symbol on that line.\n",
    "\n",
    "Multi-line comments: Although Python does not have a specific syntax for multi-line comments, you can use triple quotes (''' or \"\"\") to create a multi-line string that is not assigned to any variable. This can serve as a multi-line comment."
   ]
  },
  {
   "cell_type": "code",
   "execution_count": null,
   "id": "d53b3ffa",
   "metadata": {},
   "outputs": [],
   "source": []
  },
  {
   "cell_type": "markdown",
   "id": "8b12ae5c",
   "metadata": {},
   "source": [
    "# Q2. What are variables in Python? How do you declare and assign values to variables?\n",
    "\n",
    "=> In Python, a variable is a reserved memory location to store values. Unlike some other programming languages, Python does not require explicit declaration of the variable type. You can create a variable and assign a value to it in the following way:"
   ]
  },
  {
   "cell_type": "code",
   "execution_count": 2,
   "id": "49cf5b3f",
   "metadata": {},
   "outputs": [
    {
     "data": {
      "text/plain": [
       "42"
      ]
     },
     "execution_count": 2,
     "metadata": {},
     "output_type": "execute_result"
    }
   ],
   "source": [
    "# Variable declaration and assignment in Python\n",
    "my_variable = 42\n",
    "my_variable"
   ]
  },
  {
   "cell_type": "markdown",
   "id": "f5de65ce",
   "metadata": {},
   "source": [
    "my_variable is declared and assigned the value 42. Python infers the type of the variable based on the value assigned to it. Variables can store various types of data, including integers, floats, strings, lists, tuples, dictionaries, and more. The type of the variable can change during the execution of the program, allowing for dynamic behavior."
   ]
  },
  {
   "cell_type": "code",
   "execution_count": null,
   "id": "c5178018",
   "metadata": {},
   "outputs": [],
   "source": []
  },
  {
   "cell_type": "markdown",
   "id": "d5f5ab2c",
   "metadata": {},
   "source": [
    "# Q3. How do you convert one data type to another in Python?\n",
    "\n",
    "=> n Python, you can convert one data type to another using type conversion functions or methods. Some commonly used type conversion functions include:\n",
    "\n",
    "int(): Converts a number or a string to an integer.\n",
    "float(): Converts a number or a string to a floating-point number.\n",
    "str(): Converts an object to a string.\n",
    "list(): Converts a sequence (like a tuple or string) to a list.\n",
    "tuple(): Converts a sequence or an iterable to a tuple.\n",
    "dict(): Creates a dictionary. This can be used to convert other objects to a dictionary."
   ]
  },
  {
   "cell_type": "code",
   "execution_count": 3,
   "id": "8f10d72e",
   "metadata": {},
   "outputs": [],
   "source": [
    "# Converting to an integer\n",
    "x = int(3.14)  # x will be 3\n",
    "\n",
    "# Converting to a float\n",
    "y = float(\"3.14\")  # y will be 3.14\n",
    "\n",
    "# Converting to a string\n",
    "z = str(123)  # z will be '123'\n",
    "\n",
    "# Converting to a list\n",
    "a = list((1, 2, 3))  # a will be [1, 2, 3]\n",
    "\n",
    "# Converting to a tuple\n",
    "b = tuple([1, 2, 3])  # b will be (1, 2, 3)\n",
    "\n",
    "# Converting to a dictionary\n",
    "c = dict([(1, 'one'), (2, 'two')])  # c will be {1: 'one', 2: 'two'}\n"
   ]
  },
  {
   "cell_type": "code",
   "execution_count": null,
   "id": "ece5228f",
   "metadata": {},
   "outputs": [],
   "source": []
  },
  {
   "cell_type": "markdown",
   "id": "227876c1",
   "metadata": {},
   "source": [
    "# Q4. How do you write and execute a Python script from the command line?\n",
    "\n",
    "=> Navigate to the directory where your Python script is located using the cd command.\n",
    "To execute the script: python my_script.py"
   ]
  },
  {
   "cell_type": "code",
   "execution_count": null,
   "id": "20744b6a",
   "metadata": {},
   "outputs": [],
   "source": []
  },
  {
   "cell_type": "markdown",
   "id": "3d8e89ac",
   "metadata": {},
   "source": [
    "# Q5. Given a list my_list = [1, 2, 3, 4, 5], write the code to slice the list and obtain the sub-list [2, 3]."
   ]
  },
  {
   "cell_type": "code",
   "execution_count": 4,
   "id": "ac6ae739",
   "metadata": {},
   "outputs": [
    {
     "data": {
      "text/plain": [
       "[2, 3]"
      ]
     },
     "execution_count": 4,
     "metadata": {},
     "output_type": "execute_result"
    }
   ],
   "source": [
    "my_list = [1, 2, 3, 4, 5]\n",
    "sub_list = my_list[1:3]\n",
    "sub_list"
   ]
  },
  {
   "cell_type": "code",
   "execution_count": null,
   "id": "d6ea3769",
   "metadata": {},
   "outputs": [],
   "source": []
  },
  {
   "cell_type": "markdown",
   "id": "e38de664",
   "metadata": {},
   "source": [
    "# Q6. What is a complex number in mathematics, and how is it represented in Python\n",
    "\n",
    "=> In mathematics, a complex number is a number that can be expressed in the form a + bi, where a and b are real numbers and i is the imaginary unit, which satisfies the equation i^2 = -1. Here, a is the real part, b is the imaginary part, and i is the imaginary unit.\n",
    "\n",
    "In Python, complex numbers are represented using the following syntax:\n",
    "\n",
    "z = 3 + 4j\n",
    "\n",
    "Here, `3` is the real part, and `4j` is the imaginary part. In Python, the imaginary unit is denoted by `j` or `J`."
   ]
  },
  {
   "cell_type": "code",
   "execution_count": null,
   "id": "24c1ff4e",
   "metadata": {},
   "outputs": [],
   "source": []
  },
  {
   "cell_type": "markdown",
   "id": "72f46a3d",
   "metadata": {},
   "source": [
    "# Q7. What is the correct way to declare a variable named age and assign the value 25 to it?"
   ]
  },
  {
   "cell_type": "code",
   "execution_count": 5,
   "id": "6fa4f689",
   "metadata": {},
   "outputs": [
    {
     "data": {
      "text/plain": [
       "25"
      ]
     },
     "execution_count": 5,
     "metadata": {},
     "output_type": "execute_result"
    }
   ],
   "source": [
    "age = 25\n",
    "age"
   ]
  },
  {
   "cell_type": "code",
   "execution_count": null,
   "id": "0b82a226",
   "metadata": {},
   "outputs": [],
   "source": []
  },
  {
   "cell_type": "markdown",
   "id": "281bcf4e",
   "metadata": {},
   "source": [
    "# Q8. Declare a variable named price and assign the value 9.99 to it. What data type does this variable belong to?"
   ]
  },
  {
   "cell_type": "code",
   "execution_count": 6,
   "id": "e778db21",
   "metadata": {},
   "outputs": [
    {
     "data": {
      "text/plain": [
       "float"
      ]
     },
     "execution_count": 6,
     "metadata": {},
     "output_type": "execute_result"
    }
   ],
   "source": [
    "price = 9.99\n",
    "type(price)"
   ]
  },
  {
   "cell_type": "code",
   "execution_count": null,
   "id": "834dfadc",
   "metadata": {},
   "outputs": [],
   "source": []
  },
  {
   "cell_type": "markdown",
   "id": "d1e9eb9f",
   "metadata": {},
   "source": [
    "# Q9. Create a variable named name and assign your full name to it as a string. How would you print the value of this variable?"
   ]
  },
  {
   "cell_type": "code",
   "execution_count": 7,
   "id": "0f2b248b",
   "metadata": {},
   "outputs": [
    {
     "name": "stdout",
     "output_type": "stream",
     "text": [
      "Ishika Ranjan\n"
     ]
    }
   ],
   "source": [
    "name = \"Ishika Ranjan\"\n",
    "print(name)"
   ]
  },
  {
   "cell_type": "code",
   "execution_count": null,
   "id": "036d2234",
   "metadata": {},
   "outputs": [],
   "source": []
  },
  {
   "cell_type": "markdown",
   "id": "eba170e2",
   "metadata": {},
   "source": [
    "# Q10. Given the string \"Hello, World!\", extract the substring \"World\"."
   ]
  },
  {
   "cell_type": "code",
   "execution_count": 8,
   "id": "125f2e4d",
   "metadata": {},
   "outputs": [
    {
     "name": "stdout",
     "output_type": "stream",
     "text": [
      "World\n"
     ]
    }
   ],
   "source": [
    "my_string = \"Hello, World!\"\n",
    "substring = my_string[7:12]\n",
    "print(substring)"
   ]
  },
  {
   "cell_type": "code",
   "execution_count": null,
   "id": "06a01d13",
   "metadata": {},
   "outputs": [],
   "source": []
  },
  {
   "cell_type": "markdown",
   "id": "771c6cde",
   "metadata": {},
   "source": [
    "# Q11. Create a variable named \"is_student\" and assign it a boolean value indicating whether you are currently a student or not."
   ]
  },
  {
   "cell_type": "code",
   "execution_count": 9,
   "id": "8e64283d",
   "metadata": {},
   "outputs": [],
   "source": [
    "is_student = True\n"
   ]
  },
  {
   "cell_type": "code",
   "execution_count": null,
   "id": "ebe36fb5",
   "metadata": {},
   "outputs": [],
   "source": []
  }
 ],
 "metadata": {
  "kernelspec": {
   "display_name": "Python 3 (ipykernel)",
   "language": "python",
   "name": "python3"
  },
  "language_info": {
   "codemirror_mode": {
    "name": "ipython",
    "version": 3
   },
   "file_extension": ".py",
   "mimetype": "text/x-python",
   "name": "python",
   "nbconvert_exporter": "python",
   "pygments_lexer": "ipython3",
   "version": "3.11.4"
  }
 },
 "nbformat": 4,
 "nbformat_minor": 5
}
